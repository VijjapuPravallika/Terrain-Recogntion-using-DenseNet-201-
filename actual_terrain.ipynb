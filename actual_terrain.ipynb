{
 "cells": [
  {
   "cell_type": "code",
   "execution_count": 1,
   "id": "4b4bb4f7",
   "metadata": {},
   "outputs": [
    {
     "name": "stderr",
     "output_type": "stream",
     "text": [
      "C:\\Users\\Pravallika\\anaconda3\\lib\\site-packages\\pandas\\core\\computation\\expressions.py:21: UserWarning: Pandas requires version '2.8.4' or newer of 'numexpr' (version '2.7.3' currently installed).\n",
      "  from pandas.core.computation.check import NUMEXPR_INSTALLED\n",
      "C:\\Users\\Pravallika\\anaconda3\\lib\\site-packages\\pandas\\core\\arrays\\masked.py:60: UserWarning: Pandas requires version '1.3.6' or newer of 'bottleneck' (version '1.3.2' currently installed).\n",
      "  from pandas.core import (\n"
     ]
    }
   ],
   "source": [
    "import tensorflow as tf\n",
    "from tensorflow.keras import layers, models, optimizers\n",
    "from tensorflow.keras.metrics import Accuracy, Precision, Recall\n",
    "from tensorflow.keras.losses import SparseCategoricalCrossentropy\n",
    "from tensorflow.keras.preprocessing.image import ImageDataGenerator\n"
   ]
  },
  {
   "cell_type": "code",
   "execution_count": 2,
   "id": "56723ea1",
   "metadata": {},
   "outputs": [],
   "source": [
    "# Define data generators\n",
    "train_datagen = ImageDataGenerator(\n",
    "    rescale=1./255,\n",
    "    rotation_range=20,\n",
    "    width_shift_range=0.2,\n",
    "    height_shift_range=0.2,\n",
    "    horizontal_flip=True\n",
    ")\n"
   ]
  },
  {
   "cell_type": "code",
   "execution_count": 3,
   "id": "5092ae3f",
   "metadata": {},
   "outputs": [],
   "source": [
    "val_datagen = ImageDataGenerator(rescale=1./255)\n",
    "test_datagen = ImageDataGenerator(rescale=1./255)\n"
   ]
  },
  {
   "cell_type": "code",
   "execution_count": 4,
   "id": "719b1b2e",
   "metadata": {},
   "outputs": [
    {
     "name": "stdout",
     "output_type": "stream",
     "text": [
      "Found 31571 images belonging to 4 classes.\n"
     ]
    }
   ],
   "source": [
    "train_generator = train_datagen.flow_from_directory(\n",
    "   r\"C:\\Users\\Pravallika\\mini project code\\train\\train\",\n",
    "    target_size=(224, 224),\n",
    "    batch_size=32,\n",
    "    class_mode='sparse'\n",
    ")\n"
   ]
  },
  {
   "cell_type": "code",
   "execution_count": 5,
   "id": "1f2592ed",
   "metadata": {},
   "outputs": [
    {
     "name": "stdout",
     "output_type": "stream",
     "text": [
      "Found 6765 images belonging to 4 classes.\n"
     ]
    }
   ],
   "source": [
    "val_generator = val_datagen.flow_from_directory(\n",
    "   r\"C:\\Users\\Pravallika\\mini project code\\val\\val\",\n",
    "    target_size=(224, 224),\n",
    "    batch_size=32,\n",
    "    class_mode='sparse'\n",
    ")\n"
   ]
  },
  {
   "cell_type": "code",
   "execution_count": 6,
   "id": "bdc15828",
   "metadata": {},
   "outputs": [
    {
     "name": "stdout",
     "output_type": "stream",
     "text": [
      "Found 6768 images belonging to 4 classes.\n"
     ]
    }
   ],
   "source": [
    "test_generator = test_datagen.flow_from_directory(\n",
    "    r\"C:\\Users\\Pravallika\\mini project code\\test\\test\",\n",
    "    target_size=(224, 224),\n",
    "    batch_size=32,\n",
    "    class_mode='sparse',\n",
    "    shuffle=False\n",
    ")"
   ]
  },
  {
   "cell_type": "code",
   "execution_count": 7,
   "id": "74bba20b",
   "metadata": {},
   "outputs": [],
   "source": [
    "# Define DenseNet-201 model\n",
    "base_model = tf.keras.applications.DenseNet201(\n",
    "    include_top=False,\n",
    "    weights='imagenet',\n",
    "    input_shape=(224, 224, 3)\n",
    ")\n"
   ]
  },
  {
   "cell_type": "code",
   "execution_count": 9,
   "id": "786fcd65",
   "metadata": {},
   "outputs": [],
   "source": [
    "base_model.trainable = False\n"
   ]
  },
  {
   "cell_type": "code",
   "execution_count": 9,
   "id": "f8e2619b",
   "metadata": {},
   "outputs": [],
   "source": [
    "model = models.Sequential([\n",
    "    base_model,\n",
    "    layers.GlobalAveragePooling2D(),\n",
    "    layers.Dense(len(train_generator.class_indices), activation='softmax')\n",
    "])\n"
   ]
  },
  {
   "cell_type": "code",
   "execution_count": 10,
   "id": "daf863aa",
   "metadata": {},
   "outputs": [],
   "source": [
    "# Compile the model\n",
    "model.compile(\n",
    "    optimizer=optimizers.Adam(learning_rate=0.001),\n",
    "    loss=SparseCategoricalCrossentropy(),\n",
    "    metrics=['accuracy']\n",
    ")\n"
   ]
  },
  {
   "cell_type": "code",
   "execution_count": 11,
   "id": "962f0e81",
   "metadata": {},
   "outputs": [
    {
     "name": "stdout",
     "output_type": "stream",
     "text": [
      "Epoch 1/20\n",
      "987/987 [==============================] - 2867s 3s/step - loss: 0.4062 - accuracy: 0.8528 - val_loss: 0.2859 - val_accuracy: 0.9039\n",
      "Epoch 2/20\n",
      "987/987 [==============================] - 3039s 3s/step - loss: 0.2532 - accuracy: 0.9129 - val_loss: 0.2269 - val_accuracy: 0.9255\n",
      "Epoch 3/20\n",
      "987/987 [==============================] - 3154s 3s/step - loss: 0.2183 - accuracy: 0.9222 - val_loss: 0.1961 - val_accuracy: 0.9350\n",
      "Epoch 4/20\n",
      "987/987 [==============================] - 2890s 3s/step - loss: 0.1990 - accuracy: 0.9294 - val_loss: 0.1855 - val_accuracy: 0.9395\n",
      "Epoch 5/20\n",
      "987/987 [==============================] - 2785s 3s/step - loss: 0.1860 - accuracy: 0.9335 - val_loss: 0.1832 - val_accuracy: 0.9391\n",
      "Epoch 6/20\n",
      "987/987 [==============================] - 2806s 3s/step - loss: 0.1770 - accuracy: 0.9379 - val_loss: 0.1644 - val_accuracy: 0.9468\n",
      "Epoch 7/20\n",
      "987/987 [==============================] - 2809s 3s/step - loss: 0.1734 - accuracy: 0.9374 - val_loss: 0.1614 - val_accuracy: 0.9449\n",
      "Epoch 8/20\n",
      "987/987 [==============================] - 2785s 3s/step - loss: 0.1659 - accuracy: 0.9413 - val_loss: 0.1639 - val_accuracy: 0.9450\n",
      "Epoch 9/20\n",
      "987/987 [==============================] - 2735s 3s/step - loss: 0.1647 - accuracy: 0.9417 - val_loss: 0.1511 - val_accuracy: 0.9490\n",
      "Epoch 10/20\n",
      "987/987 [==============================] - 2737s 3s/step - loss: 0.1635 - accuracy: 0.9409 - val_loss: 0.1470 - val_accuracy: 0.9496\n",
      "Epoch 11/20\n",
      "987/987 [==============================] - 2736s 3s/step - loss: 0.1577 - accuracy: 0.9431 - val_loss: 0.1479 - val_accuracy: 0.9502\n",
      "Epoch 12/20\n",
      "987/987 [==============================] - 2726s 3s/step - loss: 0.1551 - accuracy: 0.9439 - val_loss: 0.1473 - val_accuracy: 0.9490\n",
      "Epoch 13/20\n",
      "987/987 [==============================] - 2728s 3s/step - loss: 0.1547 - accuracy: 0.9434 - val_loss: 0.1600 - val_accuracy: 0.9463\n",
      "Epoch 14/20\n",
      "987/987 [==============================] - 2745s 3s/step - loss: 0.1503 - accuracy: 0.9464 - val_loss: 0.1488 - val_accuracy: 0.9489\n",
      "Epoch 15/20\n",
      "987/987 [==============================] - 2724s 3s/step - loss: 0.1473 - accuracy: 0.9476 - val_loss: 0.1502 - val_accuracy: 0.9487\n",
      "Epoch 16/20\n",
      "987/987 [==============================] - 2724s 3s/step - loss: 0.1488 - accuracy: 0.9465 - val_loss: 0.1413 - val_accuracy: 0.9502\n",
      "Epoch 17/20\n",
      "987/987 [==============================] - 2729s 3s/step - loss: 0.1452 - accuracy: 0.9473 - val_loss: 0.1447 - val_accuracy: 0.9502\n",
      "Epoch 18/20\n",
      "987/987 [==============================] - 2836s 3s/step - loss: 0.1448 - accuracy: 0.9467 - val_loss: 0.1342 - val_accuracy: 0.9530\n",
      "Epoch 19/20\n",
      "987/987 [==============================] - 3005s 3s/step - loss: 0.1442 - accuracy: 0.9464 - val_loss: 0.1367 - val_accuracy: 0.9525\n",
      "Epoch 20/20\n",
      "987/987 [==============================] - 2779s 3s/step - loss: 0.1459 - accuracy: 0.9474 - val_loss: 0.1356 - val_accuracy: 0.9517\n"
     ]
    }
   ],
   "source": [
    "# Train the model\n",
    "history = model.fit(\n",
    "    train_generator,\n",
    "    epochs=20,\n",
    "    validation_data=val_generator\n",
    ")\n"
   ]
  },
  {
   "cell_type": "code",
   "execution_count": 12,
   "id": "15987462",
   "metadata": {},
   "outputs": [
    {
     "name": "stderr",
     "output_type": "stream",
     "text": [
      "C:\\Users\\Pravallika\\anaconda3\\lib\\site-packages\\keras\\src\\engine\\training.py:3000: UserWarning: You are saving your model as an HDF5 file via `model.save()`. This file format is considered legacy. We recommend using instead the native Keras format, e.g. `model.save('my_model.keras')`.\n",
      "  saving_api.save_model(\n"
     ]
    },
    {
     "name": "stdout",
     "output_type": "stream",
     "text": [
      "Model saved successfully.\n"
     ]
    }
   ],
   "source": [
    "# Save the trained model\n",
    "import os\n",
    "model.save(os.path.join(r\"C:\\Users\\Pravallika\\mini project code\", \"pravallika.h5\"))\n",
    "print(\"Model saved successfully.\")\n"
   ]
  },
  {
   "cell_type": "code",
   "execution_count": 8,
   "id": "be3e3bbe",
   "metadata": {},
   "outputs": [],
   "source": [
    "# Load the trained model\n",
    "model = tf.keras.models.load_model(r\"C:\\Users\\Pravallika\\mini project code\\pravallika.h5\")"
   ]
  },
  {
   "cell_type": "code",
   "execution_count": 11,
   "id": "9930e00f",
   "metadata": {},
   "outputs": [
    {
     "name": "stdout",
     "output_type": "stream",
     "text": [
      "212/212 [==============================] - 554s 3s/step - loss: 0.1489 - accuracy: 0.9444\n",
      "Test Loss: 0.14894583821296692\n",
      "Test Accuracy: 0.9444444179534912\n"
     ]
    }
   ],
   "source": [
    "# Evaluate the model\n",
    "test_loss, test_accuracy = model.evaluate(test_generator)\n",
    "print(\"Test Loss:\", test_loss)\n",
    "print(\"Test Accuracy:\", test_accuracy)"
   ]
  },
  {
   "cell_type": "code",
   "execution_count": 15,
   "id": "6337a3ad",
   "metadata": {},
   "outputs": [
    {
     "name": "stdout",
     "output_type": "stream",
     "text": [
      "212/212 [==============================] - 549s 3s/step\n",
      "Performance Metrics:\n",
      "Accuracy: 0.9444444\n",
      "Precision: 0.97814757\n",
      "Recall: 0.9866532\n"
     ]
    }
   ],
   "source": [
    "# Calculate metrics\n",
    "y_true = test_generator.classes\n",
    "y_pred = model.predict(test_generator).argmax(axis=1)\n",
    "\n",
    "accuracy = Accuracy()\n",
    "precision = Precision()\n",
    "recall = Recall()\n",
    "\n",
    "accuracy.update_state(y_true, y_pred)\n",
    "precision.update_state(y_true, y_pred)\n",
    "recall.update_state(y_true, y_pred)\n",
    "\n",
    "print(\"Performance Metrics:\")\n",
    "print(\"Accuracy:\", accuracy.result().numpy())\n",
    "print(\"Precision:\", precision.result().numpy())\n",
    "print(\"Recall:\", recall.result().numpy())"
   ]
  },
  {
   "cell_type": "code",
   "execution_count": 10,
   "id": "4cd2c900",
   "metadata": {},
   "outputs": [
    {
     "name": "stdout",
     "output_type": "stream",
     "text": [
      "1/1 [==============================] - 0s 301ms/step\n"
     ]
    },
    {
     "ename": "IndexError",
     "evalue": "index 2 is out of bounds for axis 0 with size 1",
     "output_type": "error",
     "traceback": [
      "\u001b[1;31m---------------------------------------------------------------------------\u001b[0m",
      "\u001b[1;31mIndexError\u001b[0m                                Traceback (most recent call last)",
      "\u001b[1;32mC:\\Users\\PRAVAL~1\\AppData\\Local\\Temp/ipykernel_22028/403278384.py\u001b[0m in \u001b[0;36m<module>\u001b[1;34m\u001b[0m\n\u001b[0;32m     18\u001b[0m \u001b[1;33m\u001b[0m\u001b[0m\n\u001b[0;32m     19\u001b[0m \u001b[1;31m# To use this function, pass the path to an image file\u001b[0m\u001b[1;33m\u001b[0m\u001b[1;33m\u001b[0m\u001b[0m\n\u001b[1;32m---> 20\u001b[1;33m \u001b[0mpredict_terrain\u001b[0m\u001b[1;33m(\u001b[0m\u001b[0mmodel\u001b[0m\u001b[1;33m,\u001b[0m \u001b[1;34mr\"C:\\Users\\Pravallika\\mini project code\\test\\test\\Sandy\\Sandy (1)_0_17.png\"\u001b[0m\u001b[1;33m)\u001b[0m\u001b[1;33m\u001b[0m\u001b[1;33m\u001b[0m\u001b[0m\n\u001b[0m",
      "\u001b[1;32mC:\\Users\\PRAVAL~1\\AppData\\Local\\Temp/ipykernel_22028/403278384.py\u001b[0m in \u001b[0;36mpredict_terrain\u001b[1;34m(model, img_path)\u001b[0m\n\u001b[0;32m     13\u001b[0m \u001b[1;33m\u001b[0m\u001b[0m\n\u001b[0;32m     14\u001b[0m     \u001b[0mplt\u001b[0m\u001b[1;33m.\u001b[0m\u001b[0mimshow\u001b[0m\u001b[1;33m(\u001b[0m\u001b[0mimg\u001b[0m\u001b[1;33m)\u001b[0m\u001b[1;33m\u001b[0m\u001b[1;33m\u001b[0m\u001b[0m\n\u001b[1;32m---> 15\u001b[1;33m     \u001b[0mplt\u001b[0m\u001b[1;33m.\u001b[0m\u001b[0mtitle\u001b[0m\u001b[1;33m(\u001b[0m\u001b[1;34mf'Predicted: {list(train_generator.class_indices.keys())[predicted_class[2]]}'\u001b[0m\u001b[1;33m)\u001b[0m\u001b[1;33m\u001b[0m\u001b[1;33m\u001b[0m\u001b[0m\n\u001b[0m\u001b[0;32m     16\u001b[0m     \u001b[0mplt\u001b[0m\u001b[1;33m.\u001b[0m\u001b[0maxis\u001b[0m\u001b[1;33m(\u001b[0m\u001b[1;34m'off'\u001b[0m\u001b[1;33m)\u001b[0m\u001b[1;33m\u001b[0m\u001b[1;33m\u001b[0m\u001b[0m\n\u001b[0;32m     17\u001b[0m     \u001b[0mplt\u001b[0m\u001b[1;33m.\u001b[0m\u001b[0mshow\u001b[0m\u001b[1;33m(\u001b[0m\u001b[1;33m)\u001b[0m\u001b[1;33m\u001b[0m\u001b[1;33m\u001b[0m\u001b[0m\n",
      "\u001b[1;31mIndexError\u001b[0m: index 2 is out of bounds for axis 0 with size 1"
     ]
    },
    {
     "data": {
      "image/png": "[encoded data removed]",
      "text/plain": [
       "<Figure size 432x288 with 1 Axes>"
      ]
     },
     "metadata": {
      "needs_background": "light"
     },
     "output_type": "display_data"
    }
   ],
   "source": [
    "from tensorflow.keras.preprocessing import image as keras_image\n",
    "import numpy as np\n",
    "import matplotlib.pyplot as plt\n",
    "def predict_terrain(model, img_path):\n",
    "    img = keras_image.load_img(img_path, target_size=(224, 224))\n",
    "    img_array = keras_image.img_to_array(img)\n",
    "    img_array = np.expand_dims(img_array, axis=0)  # Make it (1, 224, 224, 3)\n",
    "    img_array /= 255.0 \n",
    "\n",
    "    # Predict the terrain type\n",
    "    prediction = model.predict(img_array)\n",
    "    predicted_class = np.argmax(prediction, axis=1)\n",
    "\n",
    "    plt.imshow(img)\n",
    "    plt.title(f'Predicted: {list(train_generator.class_indices.keys())[predicted_class[2]]}')\n",
    "    plt.axis('off')\n",
    "    plt.show()\n",
    "\n",
    "# To use this function, pass the path to an image file\n",
    "predict_terrain(model, r\"C:\\Users\\Pravallika\\mini project code\\test\\test\\Sandy\\Sandy (1)_0_17.png\")\n"
   ]
  },
  {
   "cell_type": "code",
   "execution_count": null,
   "id": "03e6353a",
   "metadata": {},
   "outputs": [],
   "source": []
  }
 ],
 "metadata": {
  "kernelspec": {
   "display_name": "Python 3 (ipykernel)",
   "language": "python",
   "name": "python3"
  },
  "language_info": {
   "codemirror_mode": {
    "name": "ipython",
    "version": 3
   },
   "file_extension": ".py",
   "mimetype": "text/x-python",
   "name": "python",
   "nbconvert_exporter": "python",
   "pygments_lexer": "ipython3",
   "version": "3.9.7"
  }
 },
 "nbformat": 4,
 "nbformat_minor": 5
}
